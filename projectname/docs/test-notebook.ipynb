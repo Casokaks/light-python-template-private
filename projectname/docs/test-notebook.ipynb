{
 "cells": [
  {
   "cell_type": "markdown",
   "id": "6fcf18bd",
   "metadata": {},
   "source": [
    "# Notebook to test the correct installation of the package"
   ]
  },
  {
   "cell_type": "code",
   "execution_count": 1,
   "id": "cf98beaf",
   "metadata": {},
   "outputs": [],
   "source": [
    "import pandas"
   ]
  },
  {
   "cell_type": "code",
   "execution_count": 2,
   "id": "ac1be9df",
   "metadata": {},
   "outputs": [
    {
     "data": {
      "text/plain": [
       "'Hi'"
      ]
     },
     "execution_count": 2,
     "metadata": {},
     "output_type": "execute_result"
    }
   ],
   "source": [
    "import projectname\n",
    "projectname.placeholder(x='Hi')"
   ]
  },
  {
   "cell_type": "code",
   "execution_count": 3,
   "id": "4e12572f",
   "metadata": {},
   "outputs": [
    {
     "data": {
      "text/plain": [
       "'Hi there!'"
      ]
     },
     "execution_count": 3,
     "metadata": {},
     "output_type": "execute_result"
    }
   ],
   "source": [
    "from projectname import *\n",
    "placeholder(x='Hi there!')"
   ]
  },
  {
   "cell_type": "code",
   "execution_count": 4,
   "id": "9314fc95",
   "metadata": {},
   "outputs": [
    {
     "data": {
      "text/plain": [
       "'projectname'"
      ]
     },
     "execution_count": 4,
     "metadata": {},
     "output_type": "execute_result"
    }
   ],
   "source": [
    "projectname.__package__"
   ]
  },
  {
   "cell_type": "code",
   "execution_count": 5,
   "id": "aad838ce",
   "metadata": {},
   "outputs": [
    {
     "data": {
      "text/plain": [
       "'projectname'"
      ]
     },
     "execution_count": 5,
     "metadata": {},
     "output_type": "execute_result"
    }
   ],
   "source": [
    "projectname.__name__"
   ]
  },
  {
   "cell_type": "code",
   "execution_count": 7,
   "id": "b0c553de",
   "metadata": {},
   "outputs": [
    {
     "data": {
      "text/plain": [
       "'0.3.1'"
      ]
     },
     "execution_count": 7,
     "metadata": {},
     "output_type": "execute_result"
    }
   ],
   "source": [
    "projectname.__version__"
   ]
  },
  {
   "cell_type": "code",
   "execution_count": 8,
   "id": "5ffec756",
   "metadata": {},
   "outputs": [
    {
     "data": {
      "text/plain": [
       "['/opt/conda/lib/python3.7/site-packages/projectname']"
      ]
     },
     "execution_count": 8,
     "metadata": {},
     "output_type": "execute_result"
    }
   ],
   "source": [
    "projectname.__path__"
   ]
  }
 ],
 "metadata": {
  "environment": {
   "name": "common-cpu.m76",
   "type": "gcloud",
   "uri": "gcr.io/deeplearning-platform-release/base-cpu:m76"
  },
  "kernelspec": {
   "display_name": "Python 3",
   "language": "python",
   "name": "python3"
  },
  "language_info": {
   "codemirror_mode": {
    "name": "ipython",
    "version": 3
   },
   "file_extension": ".py",
   "mimetype": "text/x-python",
   "name": "python",
   "nbconvert_exporter": "python",
   "pygments_lexer": "ipython3",
   "version": "3.7.10"
  }
 },
 "nbformat": 4,
 "nbformat_minor": 5
}
